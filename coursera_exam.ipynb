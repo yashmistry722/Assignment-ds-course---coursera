{
 "cells": [
  {
   "cell_type": "markdown",
   "id": "e3569e39-f7bf-4ecf-9e9e-42d8d45f26f1",
   "metadata": {},
   "source": [
    "# Data Science Overview\n"
   ]
  },
  {
   "cell_type": "markdown",
   "id": "b7900938-16aa-4f42-897b-3de273cc930b",
   "metadata": {},
   "source": [
    "## Introduction\n",
    "In this notebook, we will explore various aspects of Data Science including languages, libraries, and tools. The aim is to provide a comprehensive overview to help you understand the fundamentals of Data Science.\n"
   ]
  },
  {
   "cell_type": "markdown",
   "id": "f05cafa3-88df-4fc1-80df-8164db727ab1",
   "metadata": {},
   "source": [
    "## Data Science Languages\n",
    "- Python\n",
    "- R\n",
    "- SQL\n",
    "- Julia\n",
    "- Scala\n"
   ]
  },
  {
   "cell_type": "markdown",
   "id": "9cbcd2f8-d2a7-4dc9-b52b-f6931972424d",
   "metadata": {},
   "source": [
    "## Data Science Libraries\n",
    "- Pandas\n",
    "- NumPy\n",
    "- Scikit-learn\n",
    "- TensorFlow\n",
    "- Keras\n"
   ]
  },
  {
   "cell_type": "markdown",
   "id": "ee0297da-6fc3-4215-92fe-22ab604f1aa4",
   "metadata": {},
   "source": [
    "## Data Science Tools\n",
    "\n",
    "| Tool            | Type                | Purpose                |\n",
    "|-----------------|---------------------|------------------------|\n",
    "| Jupyter Notebook| IDE                 | Interactive coding     |\n",
    "| GitHub           | Version Control     | Source code management |\n",
    "| Docker           | Containerization    | Environment management |\n",
    "| Tableau          | Visualization       | Data visualization     |\n"
   ]
  },
  {
   "cell_type": "markdown",
   "id": "e45dea1d-ac89-4c81-b18a-59b1ec3ab95a",
   "metadata": {},
   "source": [
    "## Arithmetic Expression Examples\n",
    "In this section, we will demonstrate some basic arithmetic operations using Python.\n"
   ]
  },
  {
   "cell_type": "code",
   "execution_count": 3,
   "id": "7b4c613d-e6f7-4007-97e5-c82062529034",
   "metadata": {},
   "outputs": [
    {
     "data": {
      "text/plain": [
       "(50, 15)"
      ]
     },
     "execution_count": 3,
     "metadata": {},
     "output_type": "execute_result"
    }
   ],
   "source": [
    "# Multiply and Add Numbers\n",
    "a = 5\n",
    "b = 10\n",
    "product = a * b\n",
    "sum_result = a + b\n",
    "product, sum_result\n"
   ]
  },
  {
   "cell_type": "code",
   "execution_count": 4,
   "id": "8584262f-63e1-4c0e-ba56-2cd590673c73",
   "metadata": {},
   "outputs": [
    {
     "data": {
      "text/plain": [
       "2.0"
      ]
     },
     "execution_count": 4,
     "metadata": {},
     "output_type": "execute_result"
    }
   ],
   "source": [
    "# Convert Minutes to Hours\n",
    "def minutes_to_hours(minutes):\n",
    "    return minutes / 60\n",
    "\n",
    "minutes = 120\n",
    "hours = minutes_to_hours(minutes)\n",
    "hours\n"
   ]
  },
  {
   "cell_type": "markdown",
   "id": "36be3fc2-84ef-48d6-9aa9-50c93fb7d2b2",
   "metadata": {},
   "source": [
    "## Objectives\n",
    "- Understand the key Data Science languages and libraries.\n",
    "- Learn about the different tools used in Data Science.\n",
    "- Practice basic arithmetic operations in Python.\n",
    "- Convert time units using Python functions.\n"
   ]
  },
  {
   "cell_type": "markdown",
   "id": "1d95ace6-c291-4005-bacf-a562ccb37de5",
   "metadata": {},
   "source": [
    "## Author\n",
    "Yash mistry\n"
   ]
  },
  {
   "cell_type": "code",
   "execution_count": null,
   "id": "b53b9648-85c5-4c34-b190-e5be51be57d2",
   "metadata": {},
   "outputs": [],
   "source": []
  }
 ],
 "metadata": {
  "kernelspec": {
   "display_name": "Python 3 (ipykernel)",
   "language": "python",
   "name": "python3"
  },
  "language_info": {
   "codemirror_mode": {
    "name": "ipython",
    "version": 3
   },
   "file_extension": ".py",
   "mimetype": "text/x-python",
   "name": "python",
   "nbconvert_exporter": "python",
   "pygments_lexer": "ipython3",
   "version": "3.12.3"
  }
 },
 "nbformat": 4,
 "nbformat_minor": 5
}
